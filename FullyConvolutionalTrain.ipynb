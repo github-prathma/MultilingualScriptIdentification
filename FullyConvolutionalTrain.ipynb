{
 "cells": [
  {
   "cell_type": "code",
   "execution_count": 1,
   "metadata": {},
   "outputs": [
    {
     "name": "stderr",
     "output_type": "stream",
     "text": [
      "/home/lkgupta/my_project_dir/my_project_env/lib/python3.5/site-packages/sklearn/externals/six.py:31: FutureWarning: The module is deprecated in version 0.21 and will be removed in version 0.23 since we've dropped support for Python 2.7. Please rely on the official version of six (https://pypi.org/project/six/).\n",
      "  \"(https://pypi.org/project/six/).\", FutureWarning)\n",
      "/home/lkgupta/my_project_dir/my_project_env/lib/python3.5/site-packages/sklearn/utils/deprecation.py:144: FutureWarning: The sklearn.neighbors.base module is  deprecated in version 0.22 and will be removed in version 0.24. The corresponding classes / functions should instead be imported from sklearn.neighbors. Anything that cannot be imported from sklearn.neighbors is now part of the private API.\n",
      "  warnings.warn(message, FutureWarning)\n",
      "/home/lkgupta/my_project_dir/my_project_env/lib/python3.5/site-packages/sklearn/externals/joblib/__init__.py:15: FutureWarning: sklearn.externals.joblib is deprecated in 0.21 and will be removed in 0.23. Please import this functionality directly from joblib, which can be installed with: pip install joblib. If this warning is raised when loading pickled models, you may need to re-serialize those models with scikit-learn 0.21+.\n",
      "  warnings.warn(msg, category=FutureWarning)\n"
     ]
    }
   ],
   "source": [
    "import numpy as np\n",
    "import pandas as pd\n",
    "import math\n",
    "import os\n",
    "import matplotlib.pyplot as plt\n",
    "import seaborn as sns\n",
    "import tensorflow as tf\n",
    "import keras\n",
    "import cv2\n",
    "from keras.models import Sequential,Model\n",
    "from keras.layers import Dense, Dropout, Flatten, Conv2D, MaxPooling2D,GlobalAveragePooling2D, Input\n",
    "\n",
    "from keras.layers import Input, BatchNormalization, Activation\n",
    "from keras.layers.core import Lambda, RepeatVector, Reshape\n",
    "from keras.layers.convolutional import Conv2D, Conv2DTranspose\n",
    "from keras.layers.pooling import MaxPooling2D, GlobalMaxPool2D\n",
    "from keras.layers.merge import concatenate, add\n",
    "from keras.optimizers import Adam\n",
    "from keras.preprocessing.image import load_img\n",
    "from keras.preprocessing.image import img_to_array\n",
    "from keras.preprocessing.image import array_to_img\n",
    "from keras.preprocessing.image import ImageDataGenerator\n",
    "from keras.utils import to_categorical\n",
    "from sklearn.preprocessing import LabelEncoder\n",
    "from sklearn.metrics import classification_report, confusion_matrix\n",
    "from keras.callbacks import EarlyStopping,ModelCheckpoint,ReduceLROnPlateau\n",
    "#from mlxtend.plotting import plot_confusion_matrix\n",
    "import random\n",
    "from imblearn.over_sampling import RandomOverSampler\n",
    "from generator import Generator"
   ]
  },
  {
   "cell_type": "code",
   "execution_count": 2,
   "metadata": {},
   "outputs": [
    {
     "name": "stdout",
     "output_type": "stream",
     "text": [
      "[name: \"/device:CPU:0\"\n",
      "device_type: \"CPU\"\n",
      "memory_limit: 268435456\n",
      "locality {\n",
      "}\n",
      "incarnation: 3750295353643749670\n",
      ", name: \"/device:XLA_CPU:0\"\n",
      "device_type: \"XLA_CPU\"\n",
      "memory_limit: 17179869184\n",
      "locality {\n",
      "}\n",
      "incarnation: 4151085608118311424\n",
      "physical_device_desc: \"device: XLA_CPU device\"\n",
      ", name: \"/device:XLA_GPU:0\"\n",
      "device_type: \"XLA_GPU\"\n",
      "memory_limit: 17179869184\n",
      "locality {\n",
      "}\n",
      "incarnation: 9816943017817129378\n",
      "physical_device_desc: \"device: XLA_GPU device\"\n",
      ", name: \"/device:XLA_GPU:1\"\n",
      "device_type: \"XLA_GPU\"\n",
      "memory_limit: 17179869184\n",
      "locality {\n",
      "}\n",
      "incarnation: 865414718960645699\n",
      "physical_device_desc: \"device: XLA_GPU device\"\n",
      ", name: \"/device:XLA_GPU:2\"\n",
      "device_type: \"XLA_GPU\"\n",
      "memory_limit: 17179869184\n",
      "locality {\n",
      "}\n",
      "incarnation: 16630375005753664991\n",
      "physical_device_desc: \"device: XLA_GPU device\"\n",
      ", name: \"/device:XLA_GPU:3\"\n",
      "device_type: \"XLA_GPU\"\n",
      "memory_limit: 17179869184\n",
      "locality {\n",
      "}\n",
      "incarnation: 16288298554859593140\n",
      "physical_device_desc: \"device: XLA_GPU device\"\n",
      "]\n",
      "[]\n",
      "2.3.1\n"
     ]
    }
   ],
   "source": [
    "from tensorflow.python.client import device_lib\n",
    "print(device_lib.list_local_devices())\n",
    "print(tf.config.experimental.list_physical_devices('GPU'))\n",
    "print(tf.__version__)"
   ]
  },
  {
   "cell_type": "markdown",
   "metadata": {},
   "source": [
    "## Reading Data "
   ]
  },
  {
   "cell_type": "code",
   "execution_count": 3,
   "metadata": {},
   "outputs": [],
   "source": [
    "labelsdf= pd.read_csv(\"worDwiseLabels/gt.csv\")"
   ]
  },
  {
   "cell_type": "code",
   "execution_count": 4,
   "metadata": {},
   "outputs": [
    {
     "data": {
      "text/html": [
       "<div>\n",
       "<style scoped>\n",
       "    .dataframe tbody tr th:only-of-type {\n",
       "        vertical-align: middle;\n",
       "    }\n",
       "\n",
       "    .dataframe tbody tr th {\n",
       "        vertical-align: top;\n",
       "    }\n",
       "\n",
       "    .dataframe thead th {\n",
       "        text-align: right;\n",
       "    }\n",
       "</style>\n",
       "<table border=\"1\" class=\"dataframe\">\n",
       "  <thead>\n",
       "    <tr style=\"text-align: right;\">\n",
       "      <th></th>\n",
       "      <th>File_name</th>\n",
       "      <th>Script</th>\n",
       "      <th>translation</th>\n",
       "      <th>Unnamed: 3</th>\n",
       "      <th>Unnamed: 4</th>\n",
       "      <th>Unnamed: 5</th>\n",
       "      <th>Unnamed: 6</th>\n",
       "    </tr>\n",
       "  </thead>\n",
       "  <tbody>\n",
       "    <tr>\n",
       "      <th>0</th>\n",
       "      <td>word_1.png</td>\n",
       "      <td>Arabic</td>\n",
       "      <td>فروجنا</td>\n",
       "      <td>NaN</td>\n",
       "      <td>NaN</td>\n",
       "      <td>NaN</td>\n",
       "      <td>NaN</td>\n",
       "    </tr>\n",
       "    <tr>\n",
       "      <th>1</th>\n",
       "      <td>word_2.png</td>\n",
       "      <td>Arabic</td>\n",
       "      <td>المشوى</td>\n",
       "      <td>NaN</td>\n",
       "      <td>NaN</td>\n",
       "      <td>NaN</td>\n",
       "      <td>NaN</td>\n",
       "    </tr>\n",
       "    <tr>\n",
       "      <th>2</th>\n",
       "      <td>word_3.png</td>\n",
       "      <td>Arabic</td>\n",
       "      <td>حلال</td>\n",
       "      <td>NaN</td>\n",
       "      <td>NaN</td>\n",
       "      <td>NaN</td>\n",
       "      <td>NaN</td>\n",
       "    </tr>\n",
       "    <tr>\n",
       "      <th>3</th>\n",
       "      <td>word_4.png</td>\n",
       "      <td>Arabic</td>\n",
       "      <td>و</td>\n",
       "      <td>NaN</td>\n",
       "      <td>NaN</td>\n",
       "      <td>NaN</td>\n",
       "      <td>NaN</td>\n",
       "    </tr>\n",
       "    <tr>\n",
       "      <th>4</th>\n",
       "      <td>word_5.png</td>\n",
       "      <td>Arabic</td>\n",
       "      <td>طازج</td>\n",
       "      <td>NaN</td>\n",
       "      <td>NaN</td>\n",
       "      <td>NaN</td>\n",
       "      <td>NaN</td>\n",
       "    </tr>\n",
       "  </tbody>\n",
       "</table>\n",
       "</div>"
      ],
      "text/plain": [
       "    File_name  Script translation Unnamed: 3 Unnamed: 4 Unnamed: 5 Unnamed: 6\n",
       "0  word_1.png  Arabic      فروجنا        NaN        NaN        NaN        NaN\n",
       "1  word_2.png  Arabic      المشوى        NaN        NaN        NaN        NaN\n",
       "2  word_3.png  Arabic        حلال        NaN        NaN        NaN        NaN\n",
       "3  word_4.png  Arabic           و        NaN        NaN        NaN        NaN\n",
       "4  word_5.png  Arabic        طازج        NaN        NaN        NaN        NaN"
      ]
     },
     "execution_count": 4,
     "metadata": {},
     "output_type": "execute_result"
    }
   ],
   "source": [
    "labelsdf.head()"
   ]
  },
  {
   "cell_type": "code",
   "execution_count": 5,
   "metadata": {},
   "outputs": [
    {
     "data": {
      "text/plain": [
       "Latin       42629\n",
       "Korean       4476\n",
       "Japanese     4108\n",
       "Arabic       3505\n",
       "Bangla       3214\n",
       "Chinese      2702\n",
       "Symbols      1133\n",
       "3               1\n",
       "Name: Script, dtype: int64"
      ]
     },
     "execution_count": 5,
     "metadata": {},
     "output_type": "execute_result"
    }
   ],
   "source": [
    "(labelsdf['Script']).value_counts()"
   ]
  },
  {
   "cell_type": "code",
   "execution_count": 6,
   "metadata": {},
   "outputs": [],
   "source": [
    "def resize_image(img, min_side_len):\n",
    "    max_side_len = 256\n",
    "    h, w, c = img.shape\n",
    "\n",
    "    # limit the min side maintaining the aspect ratio\n",
    "    if max(h, w) > max_side_len:\n",
    "        im_scale = float(max_side_len) / h if h > w else float(max_side_len) / w  \n",
    "    else:\n",
    "        im_scale = 1.\n",
    "\n",
    "    new_h = int(h * im_scale)\n",
    "    new_w = int(w * im_scale)\n",
    "\n",
    "    re_im = cv2.resize(img, (new_w, new_h), interpolation=cv2.INTER_AREA)\n",
    "    \n",
    "    \n",
    "    h, w, c = re_im.shape\n",
    "    \n",
    "    if min(h, w) < min_side_len:\n",
    "        im_scale = float(min_side_len) / h if h < w else float(min_side_len) / w           \n",
    "    else:\n",
    "        im_scale = 1.\n",
    "\n",
    "    new_h = int(h * im_scale)\n",
    "    new_w = int(w * im_scale)\n",
    "\n",
    "    re_im2 = cv2.resize(re_im, (new_w, new_h), interpolation=cv2.INTER_AREA)\n",
    "    \n",
    "        \n",
    "        \n",
    "    return re_im2  #, new_h / h, new_w / w"
   ]
  },
  {
   "cell_type": "code",
   "execution_count": null,
   "metadata": {},
   "outputs": [],
   "source": [
    "min_side_len = 32\n",
    "\n",
    "directory = 'wordWise_fcn4/'\n",
    "\n",
    "if not os.path.exists(directory):\n",
    "    os.makedirs(directory)\n",
    "    \n",
    "for filename in os.listdir('wordWise'):\n",
    "    \n",
    "    img = cv2.imread(os.path.join('wordWise',filename))\n",
    "    new_im=resize_image(img, min_side_len)\n",
    "        \n",
    "    path = directory + filename\n",
    "    cv2.imwrite(path, new_im)\n",
    "    cv2.waitKey(0)\n",
    "    cv2.destroyAllWindows()"
   ]
  },
  {
   "cell_type": "code",
   "execution_count": 6,
   "metadata": {},
   "outputs": [],
   "source": [
    "import cv2\n",
    "import os\n",
    "\n",
    "imageInfoDf= pd.DataFrame()\n",
    "\n",
    "name=[]\n",
    "height=[]\n",
    "width=[]\n",
    "depth=[]\n",
    "\n",
    "\n",
    "def load_images_from_folder(folder):\n",
    "    for filename in os.listdir(folder):\n",
    "        img = cv2.imread(os.path.join(folder,filename))\n",
    "        if img is not None:\n",
    "            name.append(filename)\n",
    "            width.append(img.shape[1])\n",
    "            height.append(img.shape[0])\n",
    "            depth.append(img.shape[2])"
   ]
  },
  {
   "cell_type": "code",
   "execution_count": 7,
   "metadata": {},
   "outputs": [],
   "source": [
    "load_images_from_folder(\"wordWise_fcn4\")"
   ]
  },
  {
   "cell_type": "code",
   "execution_count": 8,
   "metadata": {},
   "outputs": [],
   "source": [
    "imageInfoDf['fileName']=name\n",
    "imageInfoDf['height']=height\n",
    "imageInfoDf['width']=width\n",
    "imageInfoDf['depth']=depth"
   ]
  },
  {
   "cell_type": "code",
   "execution_count": 9,
   "metadata": {},
   "outputs": [],
   "source": [
    "imageInfoDf['ratio']=imageInfoDf['width']/imageInfoDf['height']\n",
    "imageInfoDf['logratio']=imageInfoDf['ratio'].apply(math.log)"
   ]
  },
  {
   "cell_type": "code",
   "execution_count": 10,
   "metadata": {},
   "outputs": [
    {
     "data": {
      "text/plain": [
       "Text(0, 0.5, 'Frequency')"
      ]
     },
     "execution_count": 10,
     "metadata": {},
     "output_type": "execute_result"
    },
    {
     "data": {
      "image/png": "[encoded data removed]",
      "text/plain": [
       "<Figure size 1008x432 with 1 Axes>"
      ]
     },
     "metadata": {
      "needs_background": "light"
     },
     "output_type": "display_data"
    }
   ],
   "source": [
    "imageInfoDf['ratio'].hist(bins=20, figsize=[14,6])\n",
    "plt.title('Distribution Plot')\n",
    "plt.xlabel('Ratio width:height')\n",
    "plt.ylabel('Frequency')"
   ]
  },
  {
   "cell_type": "code",
   "execution_count": 11,
   "metadata": {},
   "outputs": [
    {
     "data": {
      "text/html": [
       "<div>\n",
       "<style scoped>\n",
       "    .dataframe tbody tr th:only-of-type {\n",
       "        vertical-align: middle;\n",
       "    }\n",
       "\n",
       "    .dataframe tbody tr th {\n",
       "        vertical-align: top;\n",
       "    }\n",
       "\n",
       "    .dataframe thead th {\n",
       "        text-align: right;\n",
       "    }\n",
       "</style>\n",
       "<table border=\"1\" class=\"dataframe\">\n",
       "  <thead>\n",
       "    <tr style=\"text-align: right;\">\n",
       "      <th></th>\n",
       "      <th>height</th>\n",
       "      <th>width</th>\n",
       "      <th>depth</th>\n",
       "      <th>ratio</th>\n",
       "      <th>logratio</th>\n",
       "    </tr>\n",
       "  </thead>\n",
       "  <tbody>\n",
       "    <tr>\n",
       "      <th>count</th>\n",
       "      <td>68613.000000</td>\n",
       "      <td>68613.000000</td>\n",
       "      <td>68613.0</td>\n",
       "      <td>68613.000000</td>\n",
       "      <td>68613.000000</td>\n",
       "    </tr>\n",
       "    <tr>\n",
       "      <th>mean</th>\n",
       "      <td>73.327547</td>\n",
       "      <td>153.601781</td>\n",
       "      <td>3.0</td>\n",
       "      <td>2.534334</td>\n",
       "      <td>0.709503</td>\n",
       "    </tr>\n",
       "    <tr>\n",
       "      <th>std</th>\n",
       "      <td>51.225192</td>\n",
       "      <td>87.320270</td>\n",
       "      <td>0.0</td>\n",
       "      <td>1.750891</td>\n",
       "      <td>0.700772</td>\n",
       "    </tr>\n",
       "    <tr>\n",
       "      <th>min</th>\n",
       "      <td>32.000000</td>\n",
       "      <td>32.000000</td>\n",
       "      <td>3.0</td>\n",
       "      <td>0.050794</td>\n",
       "      <td>-2.979984</td>\n",
       "    </tr>\n",
       "    <tr>\n",
       "      <th>25%</th>\n",
       "      <td>36.000000</td>\n",
       "      <td>72.000000</td>\n",
       "      <td>3.0</td>\n",
       "      <td>1.345133</td>\n",
       "      <td>0.296493</td>\n",
       "    </tr>\n",
       "    <tr>\n",
       "      <th>50%</th>\n",
       "      <td>57.000000</td>\n",
       "      <td>141.000000</td>\n",
       "      <td>3.0</td>\n",
       "      <td>2.156250</td>\n",
       "      <td>0.768371</td>\n",
       "    </tr>\n",
       "    <tr>\n",
       "      <th>75%</th>\n",
       "      <td>89.000000</td>\n",
       "      <td>256.000000</td>\n",
       "      <td>3.0</td>\n",
       "      <td>3.270833</td>\n",
       "      <td>1.185045</td>\n",
       "    </tr>\n",
       "    <tr>\n",
       "      <th>max</th>\n",
       "      <td>630.000000</td>\n",
       "      <td>1170.000000</td>\n",
       "      <td>3.0</td>\n",
       "      <td>36.562500</td>\n",
       "      <td>3.599023</td>\n",
       "    </tr>\n",
       "  </tbody>\n",
       "</table>\n",
       "</div>"
      ],
      "text/plain": [
       "             height         width    depth         ratio      logratio\n",
       "count  68613.000000  68613.000000  68613.0  68613.000000  68613.000000\n",
       "mean      73.327547    153.601781      3.0      2.534334      0.709503\n",
       "std       51.225192     87.320270      0.0      1.750891      0.700772\n",
       "min       32.000000     32.000000      3.0      0.050794     -2.979984\n",
       "25%       36.000000     72.000000      3.0      1.345133      0.296493\n",
       "50%       57.000000    141.000000      3.0      2.156250      0.768371\n",
       "75%       89.000000    256.000000      3.0      3.270833      1.185045\n",
       "max      630.000000   1170.000000      3.0     36.562500      3.599023"
      ]
     },
     "execution_count": 11,
     "metadata": {},
     "output_type": "execute_result"
    }
   ],
   "source": [
    "imageInfoDf.describe()"
   ]
  },
  {
   "cell_type": "code",
   "execution_count": null,
   "metadata": {},
   "outputs": [],
   "source": [
    "imageInfoDf['logratio'].hist(bins=20, figsize=[14,6])\n",
    "plt.title('Distribution Plot')\n",
    "plt.xlabel('Ratio width:height')\n",
    "plt.ylabel('Frequency')"
   ]
  },
  {
   "cell_type": "code",
   "execution_count": null,
   "metadata": {},
   "outputs": [],
   "source": []
  },
  {
   "cell_type": "code",
   "execution_count": 6,
   "metadata": {},
   "outputs": [],
   "source": [
    "labelsdf = labelsdf.dropna(axis=0, subset=['Script'])\n",
    "labelsdf = labelsdf.dropna(axis=0, subset=['File_name'])\n",
    "labelsdf=labelsdf[(labelsdf['Script'] !='Symbols')]\n",
    "labelsdf=labelsdf[(labelsdf['Script'] !='3')]"
   ]
  },
  {
   "cell_type": "markdown",
   "metadata": {},
   "source": [
    "### Balancing the imbalanced data by assigning weights to classes\n",
    "\n",
    "##### We did weights optimization of classes using inverse frequencies of classes. We will then pass these weights to cost function of the model"
   ]
  },
  {
   "cell_type": "code",
   "execution_count": null,
   "metadata": {},
   "outputs": [],
   "source": [
    "\n"
   ]
  },
  {
   "cell_type": "code",
   "execution_count": 7,
   "metadata": {},
   "outputs": [
    {
     "data": {
      "text/plain": [
       "{0: 17.29928673323823,\n",
       " 1: 18.865588052271313,\n",
       " 2: 22.440414507772022,\n",
       " 3: 14.75998052580331,\n",
       " 4: 13.546470062555853,\n",
       " 5: 1.4223650566515753}"
      ]
     },
     "execution_count": 7,
     "metadata": {},
     "output_type": "execute_result"
    }
   ],
   "source": [
    "class_index={0:'Arabic',1:'Bangla', 2:'Chinese', 3:'Japanese', 4:'Korean',5:'Latin'}\n",
    "#class_index={'Arabic': 0,'Bangla': 1,'Chinese': 2,'Japanese': 3,'Korean': 4,'Latin': 5}\n",
    "total=labelsdf['Script'].value_counts().sum()\n",
    "vc=labelsdf['Script'].value_counts()\n",
    "class_weights={val:total/vc[class_index[val]]for val in class_index}\n",
    "class_weights"
   ]
  },
  {
   "cell_type": "markdown",
   "metadata": {},
   "source": [
    "### Splitting data into Train, Test and Validation "
   ]
  },
  {
   "cell_type": "code",
   "execution_count": 8,
   "metadata": {},
   "outputs": [],
   "source": [
    "labelsdf_train_val = labelsdf.sample(frac = 0.85,random_state=12) \n",
    "labelsdf_test = labelsdf.drop(labelsdf_train_val.index)\n",
    "\n",
    "\n",
    "labelsdf_train = labelsdf_train_val.sample(frac = 0.85,random_state=12) \n",
    "labelsdf_val = labelsdf_train_val.drop(labelsdf_train.index)\n",
    "\n",
    "labelsdf_train = labelsdf_train.reset_index()\n"
   ]
  },
  {
   "cell_type": "code",
   "execution_count": 9,
   "metadata": {},
   "outputs": [
    {
     "data": {
      "text/plain": [
       "Latin       5389\n",
       "Korean       606\n",
       "Japanese     535\n",
       "Bangla       435\n",
       "Arabic       434\n",
       "Chinese      332\n",
       "Name: Script, dtype: int64"
      ]
     },
     "execution_count": 9,
     "metadata": {},
     "output_type": "execute_result"
    }
   ],
   "source": [
    "(labelsdf_val['Script']).value_counts()"
   ]
  },
  {
   "cell_type": "code",
   "execution_count": 10,
   "metadata": {},
   "outputs": [
    {
     "data": {
      "text/plain": [
       "Latin       6456\n",
       "Korean       626\n",
       "Japanese     593\n",
       "Arabic       543\n",
       "Bangla       458\n",
       "Chinese      419\n",
       "Name: Script, dtype: int64"
      ]
     },
     "execution_count": 10,
     "metadata": {},
     "output_type": "execute_result"
    }
   ],
   "source": [
    "(labelsdf_test['Script']).value_counts()"
   ]
  },
  {
   "cell_type": "code",
   "execution_count": 11,
   "metadata": {},
   "outputs": [
    {
     "data": {
      "text/plain": [
       "Latin       30784\n",
       "Korean       3244\n",
       "Japanese     2980\n",
       "Arabic       2528\n",
       "Bangla       2321\n",
       "Chinese      1951\n",
       "Name: Script, dtype: int64"
      ]
     },
     "execution_count": 11,
     "metadata": {},
     "output_type": "execute_result"
    }
   ],
   "source": [
    "(labelsdf_train['Script']).value_counts()"
   ]
  },
  {
   "cell_type": "markdown",
   "metadata": {},
   "source": [
    "## Generating Train, Test and Validation Iterator using Keras ImageDataGenerator \n",
    "\n",
    "* We have to create a custom image generator for this case as ImageGenerator of Keras use images with fixed dimentions"
   ]
  },
  {
   "cell_type": "code",
   "execution_count": 49,
   "metadata": {},
   "outputs": [],
   "source": [
    "imageDir = 'wordWise_fcn4/'\n",
    "    \n",
    "# If you get out of memory error try reducing the batch size\n",
    "BATCH_SIZE=16\n",
    "\n",
    "train_it = Generator( imageDir,labelsdf_train,'File_name','Script', BATCH_SIZE=16, shuffle_images=True, image_min_side=32)\n",
    "val_it = Generator( imageDir,labelsdf_val,'File_name','Script', BATCH_SIZE=16, shuffle_images=True, image_min_side=32)\n",
    "test_it = Generator( imageDir,labelsdf_test,'File_name','Script', BATCH_SIZE=16, shuffle_images=True, image_min_side=32)"
   ]
  },
  {
   "cell_type": "code",
   "execution_count": null,
   "metadata": {},
   "outputs": [],
   "source": []
  },
  {
   "cell_type": "code",
   "execution_count": 15,
   "metadata": {},
   "outputs": [],
   "source": [
    "def FCN_model(len_classes=6, dropout_rate=0.2):\n",
    "    \n",
    "    input = tf.keras.layers.Input(shape=(None, None, 3))\n",
    "\n",
    "    x = tf.keras.layers.Conv2D(filters=32, kernel_size=3, strides=1)(input)\n",
    "    x = tf.keras.layers.Dropout(dropout_rate)(x)\n",
    "    x = tf.keras.layers.BatchNormalization()(x)\n",
    "    x = tf.keras.layers.Activation('relu')(x)\n",
    "\n",
    "\n",
    "    x = tf.keras.layers.Conv2D(filters=128, kernel_size=3, strides=2)(x)\n",
    "    x = tf.keras.layers.Dropout(dropout_rate)(x)\n",
    "    x = tf.keras.layers.BatchNormalization()(x)\n",
    "    x = tf.keras.layers.Activation('relu')(x)\n",
    "\n",
    "\n",
    "    x = tf.keras.layers.Conv2D(filters=64, kernel_size=1, strides=1)(x)\n",
    "    x = tf.keras.layers.Dropout(dropout_rate)(x)\n",
    "    x = tf.keras.layers.BatchNormalization()(x)\n",
    "    x = tf.keras.layers.Activation('relu')(x)\n",
    "\n",
    " \n",
    "    x = tf.keras.layers.Conv2D(filters=len_classes, kernel_size=1, strides=1)(x)\n",
    "    x = tf.keras.layers.Dropout(dropout_rate)(x)\n",
    "    x = tf.keras.layers.BatchNormalization()(x)\n",
    "    x = tf.keras.layers.GlobalMaxPooling2D()(x)\n",
    "    predictions = tf.keras.layers.Activation('softmax')(x)\n",
    "\n",
    "    model = tf.keras.Model(inputs=input, outputs=predictions)\n",
    "    \n",
    "    print(model.summary())\n",
    "    #print(f'Total number of layers: {len(model.layers)}')\n",
    "\n",
    "    return model"
   ]
  },
  {
   "cell_type": "code",
   "execution_count": 16,
   "metadata": {},
   "outputs": [
    {
     "name": "stdout",
     "output_type": "stream",
     "text": [
      "WARNING:tensorflow:There are non-GPU devices in `tf.distribute.Strategy`, not using nccl allreduce.\n",
      "INFO:tensorflow:Using MirroredStrategy with devices ('/job:localhost/replica:0/task:0/device:CPU:0',)\n",
      "Number of devices: 1\n"
     ]
    }
   ],
   "source": [
    "strategy = tf.distribute.MirroredStrategy()\n",
    "print(\"Number of devices: {}\".format(strategy.num_replicas_in_sync))"
   ]
  },
  {
   "cell_type": "code",
   "execution_count": 17,
   "metadata": {},
   "outputs": [
    {
     "name": "stdout",
     "output_type": "stream",
     "text": [
      "Model: \"functional_1\"\n",
      "_________________________________________________________________\n",
      "Layer (type)                 Output Shape              Param #   \n",
      "=================================================================\n",
      "input_1 (InputLayer)         [(None, None, None, 3)]   0         \n",
      "_________________________________________________________________\n",
      "conv2d (Conv2D)              (None, None, None, 32)    896       \n",
      "_________________________________________________________________\n",
      "dropout (Dropout)            (None, None, None, 32)    0         \n",
      "_________________________________________________________________\n",
      "batch_normalization (BatchNo (None, None, None, 32)    128       \n",
      "_________________________________________________________________\n",
      "activation (Activation)      (None, None, None, 32)    0         \n",
      "_________________________________________________________________\n",
      "conv2d_1 (Conv2D)            (None, None, None, 128)   36992     \n",
      "_________________________________________________________________\n",
      "dropout_1 (Dropout)          (None, None, None, 128)   0         \n",
      "_________________________________________________________________\n",
      "batch_normalization_1 (Batch (None, None, None, 128)   512       \n",
      "_________________________________________________________________\n",
      "activation_1 (Activation)    (None, None, None, 128)   0         \n",
      "_________________________________________________________________\n",
      "conv2d_2 (Conv2D)            (None, None, None, 64)    8256      \n",
      "_________________________________________________________________\n",
      "dropout_2 (Dropout)          (None, None, None, 64)    0         \n",
      "_________________________________________________________________\n",
      "batch_normalization_2 (Batch (None, None, None, 64)    256       \n",
      "_________________________________________________________________\n",
      "activation_2 (Activation)    (None, None, None, 64)    0         \n",
      "_________________________________________________________________\n",
      "conv2d_3 (Conv2D)            (None, None, None, 6)     390       \n",
      "_________________________________________________________________\n",
      "dropout_3 (Dropout)          (None, None, None, 6)     0         \n",
      "_________________________________________________________________\n",
      "batch_normalization_3 (Batch (None, None, None, 6)     24        \n",
      "_________________________________________________________________\n",
      "global_max_pooling2d (Global (None, 6)                 0         \n",
      "_________________________________________________________________\n",
      "activation_3 (Activation)    (None, 6)                 0         \n",
      "=================================================================\n",
      "Total params: 47,454\n",
      "Trainable params: 46,994\n",
      "Non-trainable params: 460\n",
      "_________________________________________________________________\n",
      "None\n"
     ]
    }
   ],
   "source": [
    "with strategy.scope():\n",
    "    fcn_model=FCN_model()"
   ]
  },
  {
   "cell_type": "code",
   "execution_count": 18,
   "metadata": {},
   "outputs": [],
   "source": [
    "from keras.optimizers import SGD, Adam\n",
    "adam = Adam(lr=0.001)\n",
    "fcn_model.compile(optimizer= adam, loss='categorical_crossentropy', metrics=['Recall','Precision','Accuracy'])"
   ]
  },
  {
   "cell_type": "code",
   "execution_count": null,
   "metadata": {},
   "outputs": [
    {
     "name": "stdout",
     "output_type": "stream",
     "text": [
      "Epoch 1/5\n",
      "2790/2790 [==============================] - 11016s 4s/step - loss: 1.0342 - precision: 0.6931 - recall: 0.6914 - accuracy: 0.0000e+00 - val_recall: 0.6803 - val_loss: 1.0621 - val_accuracy: 0.0000e+00 - val_precision: 0.7061\n",
      "Epoch 2/5\n",
      "1385/2790 [=============>................] - ETA: 1:30:14 - loss: 1.0241 - precision: 0.6955 - recall: 0.6890 - accuracy: 0.0000e+00"
     ]
    }
   ],
   "source": [
    "es = EarlyStopping(monitor='val_loss', mode='min', verbose=1,patience=2)\n",
    "checkpoint = ModelCheckpoint('fcnModel7.h5',save_best_only=True,monitor='val_loss')\n",
    "historyInc = fcn_model.fit_generator(generator=train_it,steps_per_epoch=len(train_it), \n",
    "                              validation_data=val_it, validation_steps=len(val_it),\n",
    "                              epochs=5,callbacks=[es,checkpoint])"
   ]
  },
  {
   "cell_type": "code",
   "execution_count": 68,
   "metadata": {},
   "outputs": [],
   "source": [
    "fcn_model = keras.models.load_model(\"fcnModel7.h5\")"
   ]
  },
  {
   "cell_type": "code",
   "execution_count": 14,
   "metadata": {},
   "outputs": [
    {
     "name": "stdout",
     "output_type": "stream",
     "text": [
      "WARNING:tensorflow:From <ipython-input-14-bc75e7b01aec>:1: Model.evaluate_generator (from tensorflow.python.keras.engine.training) is deprecated and will be removed in a future version.\n",
      "Instructions for updating:\n",
      "Please use Model.evaluate, which supports generators.\n"
     ]
    }
   ],
   "source": [
    "score = fcn_model.evaluate_generator(test_it)\n",
    "\n",
    "#Confution Matrix and Classification Report\n",
    "#Y_predFCN = fcn_model.predict(test_it) \n",
    "#Y_predFCN = np.argmax(Y_predFCN, axis=1)\n"
   ]
  },
  {
   "cell_type": "code",
   "execution_count": 15,
   "metadata": {},
   "outputs": [
    {
     "name": "stdout",
     "output_type": "stream",
     "text": [
      "Test loss: 1.057421326637268\n",
      "Test recall: 0.7090290188789368\n",
      "Test precision: 0.7109031081199646\n",
      "Test accuracy: 0.0\n",
      "[1.057421326637268, 0.7090290188789368, 0.7109031081199646, 0.0]\n"
     ]
    }
   ],
   "source": [
    "print('Test loss:', score[0])\n",
    "print('Test recall:', score[1])\n",
    "print('Test precision:', score[2])\n",
    "print('Test accuracy:', score[3])\n",
    "print(score)\n"
   ]
  },
  {
   "cell_type": "code",
   "execution_count": 69,
   "metadata": {},
   "outputs": [],
   "source": [
    "Y_predFCN = fcn_model.predict(test_it)"
   ]
  },
  {
   "cell_type": "code",
   "execution_count": 70,
   "metadata": {},
   "outputs": [],
   "source": [
    "y_predFCN = np.argmax(Y_predFCN, axis=1)"
   ]
  },
  {
   "cell_type": "code",
   "execution_count": 71,
   "metadata": {},
   "outputs": [],
   "source": [
    "actualClass=[]\n",
    "for i in range (569):\n",
    "    for j in range (16):\n",
    "        actualClass.append(np.argmax(test_it.__getitem__(i)[1][j]))\n",
    "        \n"
   ]
  },
  {
   "cell_type": "code",
   "execution_count": 72,
   "metadata": {},
   "outputs": [],
   "source": [
    "from sklearn.metrics import accuracy_score\n",
    "from sklearn.metrics import f1_score,precision_recall_fscore_support"
   ]
  },
  {
   "cell_type": "code",
   "execution_count": 81,
   "metadata": {},
   "outputs": [],
   "source": [
    "def samplesMetrics(classes, y_pred, nSamples=30):\n",
    "    accuracies = []\n",
    "    precisions = []\n",
    "    recalls = []\n",
    "    f1_scores = []\n",
    "\n",
    "    allPredictions = pd.DataFrame(list(zip(classes, y_pred)), columns=['Classes', 'yPredicted'])\n",
    "\n",
    "    for i in range(nSamples):\n",
    "\n",
    "        labelsdf_Samples= allPredictions.sample(n=500)\n",
    "        #print(labelsdf_Samples)\n",
    "\n",
    "        accuracy = accuracy_score(labelsdf_Samples['Classes'],labelsdf_Samples['yPredicted'])\n",
    "        accuracies.append(accuracy)\n",
    "        #print(accuracy)\n",
    "\n",
    "        metrics = precision_recall_fscore_support(labelsdf_Samples['Classes'],labelsdf_Samples['yPredicted'],average='weighted')\n",
    "        precisions.append(metrics[0])\n",
    "        recalls.append(metrics[1])\n",
    "        f1_scores.append(metrics[2])\n",
    "\n",
    "    metricsEvaluated = {'Accuracy': accuracies,'Precision': precisions,'Recall': recalls, 'F1-Score': f1_scores}\n",
    "    metricsDf = pd.DataFrame(metricsEvaluated)\n",
    "    return metricsDf\n",
    "\n",
    "\n",
    "def samplesMetricsFromModel(model,test_it):\n",
    "    Y_pred = model.predict_generator(test_it) \n",
    "    y_pred = np.argmax(Y_pred, axis=1)\n",
    "    metricsDf= samplesMetrics(test_it.classes, y_pred, nSamples=30)\n",
    "    return  metricsDf"
   ]
  },
  {
   "cell_type": "code",
   "execution_count": 82,
   "metadata": {},
   "outputs": [
    {
     "data": {
      "text/html": [
       "<div>\n",
       "<style scoped>\n",
       "    .dataframe tbody tr th:only-of-type {\n",
       "        vertical-align: middle;\n",
       "    }\n",
       "\n",
       "    .dataframe tbody tr th {\n",
       "        vertical-align: top;\n",
       "    }\n",
       "\n",
       "    .dataframe thead th {\n",
       "        text-align: right;\n",
       "    }\n",
       "</style>\n",
       "<table border=\"1\" class=\"dataframe\">\n",
       "  <thead>\n",
       "    <tr style=\"text-align: right;\">\n",
       "      <th></th>\n",
       "      <th>Accuracy</th>\n",
       "      <th>F1-Score</th>\n",
       "      <th>Precision</th>\n",
       "      <th>Recall</th>\n",
       "    </tr>\n",
       "  </thead>\n",
       "  <tbody>\n",
       "    <tr>\n",
       "      <th>0</th>\n",
       "      <td>0.700</td>\n",
       "      <td>0.576471</td>\n",
       "      <td>0.490000</td>\n",
       "      <td>0.700</td>\n",
       "    </tr>\n",
       "    <tr>\n",
       "      <th>1</th>\n",
       "      <td>0.712</td>\n",
       "      <td>0.592224</td>\n",
       "      <td>0.506944</td>\n",
       "      <td>0.712</td>\n",
       "    </tr>\n",
       "    <tr>\n",
       "      <th>2</th>\n",
       "      <td>0.658</td>\n",
       "      <td>0.522273</td>\n",
       "      <td>0.432964</td>\n",
       "      <td>0.658</td>\n",
       "    </tr>\n",
       "    <tr>\n",
       "      <th>3</th>\n",
       "      <td>0.746</td>\n",
       "      <td>0.637475</td>\n",
       "      <td>0.556516</td>\n",
       "      <td>0.746</td>\n",
       "    </tr>\n",
       "    <tr>\n",
       "      <th>4</th>\n",
       "      <td>0.694</td>\n",
       "      <td>0.568638</td>\n",
       "      <td>0.481636</td>\n",
       "      <td>0.694</td>\n",
       "    </tr>\n",
       "    <tr>\n",
       "      <th>5</th>\n",
       "      <td>0.678</td>\n",
       "      <td>0.547895</td>\n",
       "      <td>0.459684</td>\n",
       "      <td>0.678</td>\n",
       "    </tr>\n",
       "    <tr>\n",
       "      <th>6</th>\n",
       "      <td>0.720</td>\n",
       "      <td>0.602791</td>\n",
       "      <td>0.518400</td>\n",
       "      <td>0.720</td>\n",
       "    </tr>\n",
       "    <tr>\n",
       "      <th>7</th>\n",
       "      <td>0.698</td>\n",
       "      <td>0.573856</td>\n",
       "      <td>0.487204</td>\n",
       "      <td>0.698</td>\n",
       "    </tr>\n",
       "    <tr>\n",
       "      <th>8</th>\n",
       "      <td>0.678</td>\n",
       "      <td>0.547895</td>\n",
       "      <td>0.459684</td>\n",
       "      <td>0.678</td>\n",
       "    </tr>\n",
       "    <tr>\n",
       "      <th>9</th>\n",
       "      <td>0.712</td>\n",
       "      <td>0.592224</td>\n",
       "      <td>0.506944</td>\n",
       "      <td>0.712</td>\n",
       "    </tr>\n",
       "    <tr>\n",
       "      <th>10</th>\n",
       "      <td>0.728</td>\n",
       "      <td>0.613407</td>\n",
       "      <td>0.529984</td>\n",
       "      <td>0.728</td>\n",
       "    </tr>\n",
       "    <tr>\n",
       "      <th>11</th>\n",
       "      <td>0.704</td>\n",
       "      <td>0.581709</td>\n",
       "      <td>0.495616</td>\n",
       "      <td>0.704</td>\n",
       "    </tr>\n",
       "    <tr>\n",
       "      <th>12</th>\n",
       "      <td>0.704</td>\n",
       "      <td>0.581709</td>\n",
       "      <td>0.495616</td>\n",
       "      <td>0.704</td>\n",
       "    </tr>\n",
       "    <tr>\n",
       "      <th>13</th>\n",
       "      <td>0.708</td>\n",
       "      <td>0.586960</td>\n",
       "      <td>0.501264</td>\n",
       "      <td>0.708</td>\n",
       "    </tr>\n",
       "    <tr>\n",
       "      <th>14</th>\n",
       "      <td>0.704</td>\n",
       "      <td>0.581709</td>\n",
       "      <td>0.495616</td>\n",
       "      <td>0.704</td>\n",
       "    </tr>\n",
       "    <tr>\n",
       "      <th>15</th>\n",
       "      <td>0.696</td>\n",
       "      <td>0.571245</td>\n",
       "      <td>0.484416</td>\n",
       "      <td>0.696</td>\n",
       "    </tr>\n",
       "    <tr>\n",
       "      <th>16</th>\n",
       "      <td>0.716</td>\n",
       "      <td>0.597501</td>\n",
       "      <td>0.512656</td>\n",
       "      <td>0.716</td>\n",
       "    </tr>\n",
       "    <tr>\n",
       "      <th>17</th>\n",
       "      <td>0.716</td>\n",
       "      <td>0.597501</td>\n",
       "      <td>0.512656</td>\n",
       "      <td>0.716</td>\n",
       "    </tr>\n",
       "    <tr>\n",
       "      <th>18</th>\n",
       "      <td>0.742</td>\n",
       "      <td>0.632106</td>\n",
       "      <td>0.550564</td>\n",
       "      <td>0.742</td>\n",
       "    </tr>\n",
       "    <tr>\n",
       "      <th>19</th>\n",
       "      <td>0.700</td>\n",
       "      <td>0.576471</td>\n",
       "      <td>0.490000</td>\n",
       "      <td>0.700</td>\n",
       "    </tr>\n",
       "    <tr>\n",
       "      <th>20</th>\n",
       "      <td>0.680</td>\n",
       "      <td>0.550476</td>\n",
       "      <td>0.462400</td>\n",
       "      <td>0.680</td>\n",
       "    </tr>\n",
       "    <tr>\n",
       "      <th>21</th>\n",
       "      <td>0.738</td>\n",
       "      <td>0.626748</td>\n",
       "      <td>0.544644</td>\n",
       "      <td>0.738</td>\n",
       "    </tr>\n",
       "    <tr>\n",
       "      <th>22</th>\n",
       "      <td>0.714</td>\n",
       "      <td>0.594861</td>\n",
       "      <td>0.509796</td>\n",
       "      <td>0.714</td>\n",
       "    </tr>\n",
       "    <tr>\n",
       "      <th>23</th>\n",
       "      <td>0.712</td>\n",
       "      <td>0.592224</td>\n",
       "      <td>0.506944</td>\n",
       "      <td>0.712</td>\n",
       "    </tr>\n",
       "    <tr>\n",
       "      <th>24</th>\n",
       "      <td>0.724</td>\n",
       "      <td>0.608093</td>\n",
       "      <td>0.524176</td>\n",
       "      <td>0.724</td>\n",
       "    </tr>\n",
       "    <tr>\n",
       "      <th>25</th>\n",
       "      <td>0.728</td>\n",
       "      <td>0.613407</td>\n",
       "      <td>0.529984</td>\n",
       "      <td>0.728</td>\n",
       "    </tr>\n",
       "    <tr>\n",
       "      <th>26</th>\n",
       "      <td>0.708</td>\n",
       "      <td>0.586960</td>\n",
       "      <td>0.501264</td>\n",
       "      <td>0.708</td>\n",
       "    </tr>\n",
       "    <tr>\n",
       "      <th>27</th>\n",
       "      <td>0.696</td>\n",
       "      <td>0.571245</td>\n",
       "      <td>0.484416</td>\n",
       "      <td>0.696</td>\n",
       "    </tr>\n",
       "    <tr>\n",
       "      <th>28</th>\n",
       "      <td>0.684</td>\n",
       "      <td>0.555648</td>\n",
       "      <td>0.467856</td>\n",
       "      <td>0.684</td>\n",
       "    </tr>\n",
       "    <tr>\n",
       "      <th>29</th>\n",
       "      <td>0.712</td>\n",
       "      <td>0.592224</td>\n",
       "      <td>0.506944</td>\n",
       "      <td>0.712</td>\n",
       "    </tr>\n",
       "  </tbody>\n",
       "</table>\n",
       "</div>"
      ],
      "text/plain": [
       "    Accuracy  F1-Score  Precision  Recall\n",
       "0      0.700  0.576471   0.490000   0.700\n",
       "1      0.712  0.592224   0.506944   0.712\n",
       "2      0.658  0.522273   0.432964   0.658\n",
       "3      0.746  0.637475   0.556516   0.746\n",
       "4      0.694  0.568638   0.481636   0.694\n",
       "5      0.678  0.547895   0.459684   0.678\n",
       "6      0.720  0.602791   0.518400   0.720\n",
       "7      0.698  0.573856   0.487204   0.698\n",
       "8      0.678  0.547895   0.459684   0.678\n",
       "9      0.712  0.592224   0.506944   0.712\n",
       "10     0.728  0.613407   0.529984   0.728\n",
       "11     0.704  0.581709   0.495616   0.704\n",
       "12     0.704  0.581709   0.495616   0.704\n",
       "13     0.708  0.586960   0.501264   0.708\n",
       "14     0.704  0.581709   0.495616   0.704\n",
       "15     0.696  0.571245   0.484416   0.696\n",
       "16     0.716  0.597501   0.512656   0.716\n",
       "17     0.716  0.597501   0.512656   0.716\n",
       "18     0.742  0.632106   0.550564   0.742\n",
       "19     0.700  0.576471   0.490000   0.700\n",
       "20     0.680  0.550476   0.462400   0.680\n",
       "21     0.738  0.626748   0.544644   0.738\n",
       "22     0.714  0.594861   0.509796   0.714\n",
       "23     0.712  0.592224   0.506944   0.712\n",
       "24     0.724  0.608093   0.524176   0.724\n",
       "25     0.728  0.613407   0.529984   0.728\n",
       "26     0.708  0.586960   0.501264   0.708\n",
       "27     0.696  0.571245   0.484416   0.696\n",
       "28     0.684  0.555648   0.467856   0.684\n",
       "29     0.712  0.592224   0.506944   0.712"
      ]
     },
     "execution_count": 82,
     "metadata": {},
     "output_type": "execute_result"
    }
   ],
   "source": [
    "  \n",
    "metricsDf = samplesMetrics(actualClass,y_predFCN)\n",
    "\n",
    "\n",
    "metricsDf.to_csv(\"FCN.csv\")\n",
    "\n",
    "\n",
    "metricsDf"
   ]
  },
  {
   "cell_type": "code",
   "execution_count": 78,
   "metadata": {},
   "outputs": [
    {
     "data": {
      "text/plain": [
       "0.7083333333333334"
      ]
     },
     "execution_count": 78,
     "metadata": {},
     "output_type": "execute_result"
    }
   ],
   "source": [
    "avgAcc=np.mean(metricsDf['Accuracy'])\n",
    "avgAcc"
   ]
  },
  {
   "cell_type": "code",
   "execution_count": 83,
   "metadata": {},
   "outputs": [
    {
     "data": {
      "text/plain": [
       "0.7070000000000001"
      ]
     },
     "execution_count": 83,
     "metadata": {},
     "output_type": "execute_result"
    }
   ],
   "source": [
    "avgRecall=np.mean(metricsDf['Recall'])\n",
    "avgRecall"
   ]
  },
  {
   "cell_type": "code",
   "execution_count": 84,
   "metadata": {},
   "outputs": [
    {
     "data": {
      "text/plain": [
       "0.5002262666666667"
      ]
     },
     "execution_count": 84,
     "metadata": {},
     "output_type": "execute_result"
    }
   ],
   "source": [
    "avgPrecision=np.mean(metricsDf['Precision'])\n",
    "avgPrecision"
   ]
  },
  {
   "cell_type": "code",
   "execution_count": 60,
   "metadata": {},
   "outputs": [
    {
     "name": "stdout",
     "output_type": "stream",
     "text": [
      "mean=  0.581473875032474\n",
      "std=  0.029190625268758912\n"
     ]
    }
   ],
   "source": [
    "avg=np.mean(metricsDf['F1-Score'])\n",
    "std=np.std(metricsDf['F1-Score'])\n",
    "print(\"mean= \",avg)\n",
    "print(\"std= \",std)"
   ]
  }
 ],
 "metadata": {
  "kernelspec": {
   "display_name": "Python 3",
   "language": "python",
   "name": "python3"
  },
  "language_info": {
   "codemirror_mode": {
    "name": "ipython",
    "version": 3
   },
   "file_extension": ".py",
   "mimetype": "text/x-python",
   "name": "python",
   "nbconvert_exporter": "python",
   "pygments_lexer": "ipython3",
   "version": "3.5.2"
  }
 },
 "nbformat": 4,
 "nbformat_minor": 4
}
